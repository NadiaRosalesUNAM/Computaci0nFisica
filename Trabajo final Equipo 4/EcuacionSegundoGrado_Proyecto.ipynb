{
  "nbformat": 4,
  "nbformat_minor": 0,
  "metadata": {
    "colab": {
      "provenance": []
    },
    "kernelspec": {
      "name": "python3",
      "display_name": "Python 3"
    },
    "language_info": {
      "name": "python"
    }
  },
  "cells": [
    {
      "cell_type": "markdown",
      "source": [
        "#En esta sección definimos funciones y listas que se utilizarán para calcular tiempo y velocidad"
      ],
      "metadata": {
        "id": "D5mfwkrUacU6"
      }
    },
    {
      "cell_type": "code",
      "source": [
        "#Definicion de constantes\n",
        "xo = 0\n",
        "vo = 140\n",
        "g = -9.81\n",
        "import math \n",
        "angrad = math.radians (30) \n",
        "vox = vo*(math.cos (angrad))\n",
        "voy = round(vo*(math.sin (angrad)))"
      ],
      "metadata": {
        "id": "lm2X157BpoIR"
      },
      "execution_count": 19,
      "outputs": []
    },
    {
      "cell_type": "code",
      "execution_count": 20,
      "metadata": {
        "id": "YMX9S-lEpHGB"
      },
      "outputs": [],
      "source": [
        "# Función para calcular raíces de un polinomio grado 2\n",
        "def EcuacionSegundoGrado(a, b, c, x, y, opcion):\n",
        "  if opcion == 'chicharroneraX1':\n",
        "    resultado = (-b+(((b**2)-(4*a*c))**(1/2)))/(2*a)\n",
        "  elif opcion == 'chicharroneraX2':\n",
        "    resultado = (-b-(((b**2)-(4*a*c))**(1/2)))/(2*a)\n",
        "  elif opcion == 'ecuacion de segundo grado':\n",
        "    resultado = a*(x**2) + b*x + c\n",
        "  else:\n",
        "    resultado = print('error')\n",
        "  \n",
        "  return resultado"
      ]
    },
    {
      "cell_type": "code",
      "source": [
        "#función para calcular la posición final dada una posición inicial, velocidad, aceleración y un tiempo\n",
        "def Posicion(x, vo, t, a):\n",
        "  resultado = x+(vo*t)-(0.5*a*(t**2))\n",
        "  return resultado"
      ],
      "metadata": {
        "id": "PEv0aFh7nL22"
      },
      "execution_count": 21,
      "outputs": []
    },
    {
      "cell_type": "code",
      "source": [
        "#lista de planetas\n",
        "planeta = ['Mercurio', 'Venus', 'Tierra', 'Marte', 'Jupiter', 'Saturno', 'Urano', 'Neptuno']"
      ],
      "metadata": {
        "id": "bvoQffaNoo0H"
      },
      "execution_count": 22,
      "outputs": []
    },
    {
      "cell_type": "code",
      "source": [
        "#gravedad en cada planeta\n",
        "gplan = [3.7,8.87,9.81,3.71,24.79,10.44,8.87,11.15]"
      ],
      "metadata": {
        "id": "op5Xr5812hYA"
      },
      "execution_count": 23,
      "outputs": []
    },
    {
      "cell_type": "markdown",
      "source": [
        "#En esta sección calculamos el tiempo de vuelo, considerando que una parábola es simétrica con dos raíces, y el proyectil \"pasa por el suelo\" dos veces."
      ],
      "metadata": {
        "id": "wfnpoBqRaQcR"
      }
    },
    {
      "cell_type": "code",
      "source": [
        "#planeta 1\n",
        "t1 = EcuacionSegundoGrado(-1.85, 70, 0, 0, 0, 'chicharroneraX1')\n",
        "t2 = EcuacionSegundoGrado(-1.85, 70, 0, 0, 0, 'chicharroneraX2')\n",
        "print(t1)\n",
        "print(t2)"
      ],
      "metadata": {
        "id": "jsHzPRfS30WA",
        "colab": {
          "base_uri": "https://localhost:8080/"
        },
        "outputId": "06262b33-ba77-4fa5-a47c-26fcb145938d"
      },
      "execution_count": 24,
      "outputs": [
        {
          "output_type": "stream",
          "name": "stdout",
          "text": [
            "-0.0\n",
            "37.83783783783784\n"
          ]
        }
      ]
    },
    {
      "cell_type": "code",
      "source": [
        "#planeta 2\n",
        "t1 = EcuacionSegundoGrado(-4.435, 70, 0, 0, 0, 'chicharroneraX1')\n",
        "t2 = EcuacionSegundoGrado(-4.435, 70, 0, 0, 0, 'chicharroneraX2')\n",
        "print(t1)\n",
        "print(t2)"
      ],
      "metadata": {
        "id": "X9E-DvtZ6P1w",
        "colab": {
          "base_uri": "https://localhost:8080/"
        },
        "outputId": "2c85b7bd-fb5d-4782-9270-0b25587fcfe5"
      },
      "execution_count": 25,
      "outputs": [
        {
          "output_type": "stream",
          "name": "stdout",
          "text": [
            "-0.0\n",
            "15.783540022547916\n"
          ]
        }
      ]
    },
    {
      "cell_type": "code",
      "source": [
        "#planeta 3\n",
        "t1 = EcuacionSegundoGrado(-4.905, 70, 0, 0, 0, 'chicharroneraX1')\n",
        "t2 = EcuacionSegundoGrado(-4.905, 70, 0, 0, 0, 'chicharroneraX2')\n",
        "print(t1)\n",
        "print(t2)"
      ],
      "metadata": {
        "id": "0uJ_ATJQ6P3P",
        "colab": {
          "base_uri": "https://localhost:8080/"
        },
        "outputId": "d0d3dcc6-c2eb-4016-9ace-b576f2985f2b"
      },
      "execution_count": 26,
      "outputs": [
        {
          "output_type": "stream",
          "name": "stdout",
          "text": [
            "-0.0\n",
            "14.271151885830784\n"
          ]
        }
      ]
    },
    {
      "cell_type": "code",
      "source": [
        "#planeta 4\n",
        "t1 = EcuacionSegundoGrado(-1.855, 70, 0, 0, 0, 'chicharroneraX1')\n",
        "t2 = EcuacionSegundoGrado(-1.855, 70, 0, 0, 0, 'chicharroneraX2')\n",
        "print(t1)\n",
        "print(t2)"
      ],
      "metadata": {
        "id": "gGIJ-KVs6VtX",
        "colab": {
          "base_uri": "https://localhost:8080/"
        },
        "outputId": "0ee970fa-fea9-4e7c-d62c-637f9ab2f02c"
      },
      "execution_count": 27,
      "outputs": [
        {
          "output_type": "stream",
          "name": "stdout",
          "text": [
            "-0.0\n",
            "37.735849056603776\n"
          ]
        }
      ]
    },
    {
      "cell_type": "code",
      "source": [
        "#planeta 5\n",
        "t1 = EcuacionSegundoGrado(-12.395, 70, 0, 0, 0, 'chicharroneraX1')\n",
        "t2 = EcuacionSegundoGrado(-12.395, 70, 0, 0, 0, 'chicharroneraX2')\n",
        "print(t1)\n",
        "print(t2)"
      ],
      "metadata": {
        "id": "ZvzEplyB6VyH",
        "colab": {
          "base_uri": "https://localhost:8080/"
        },
        "outputId": "0660f5d9-7b78-41cb-ec87-b4c78c5d6dba"
      },
      "execution_count": 28,
      "outputs": [
        {
          "output_type": "stream",
          "name": "stdout",
          "text": [
            "-0.0\n",
            "5.647438483259379\n"
          ]
        }
      ]
    },
    {
      "cell_type": "code",
      "source": [
        "#planeta 6\n",
        "t1 = EcuacionSegundoGrado(-5.22, 70, 0, 0, 0, 'chicharroneraX1')\n",
        "t2 = EcuacionSegundoGrado(-5.22, 70, 0, 0, 0, 'chicharroneraX2')\n",
        "print(t1)\n",
        "print(t2)"
      ],
      "metadata": {
        "id": "ISYFSlSa6V4b",
        "colab": {
          "base_uri": "https://localhost:8080/"
        },
        "outputId": "a8d4a147-aa3f-4f58-b331-18dc3ab7840b"
      },
      "execution_count": 29,
      "outputs": [
        {
          "output_type": "stream",
          "name": "stdout",
          "text": [
            "-0.0\n",
            "13.409961685823756\n"
          ]
        }
      ]
    },
    {
      "cell_type": "code",
      "source": [
        "#planeta 7\n",
        "t1 = EcuacionSegundoGrado(-4.435, 70, 0, 0, 0, 'chicharroneraX1')\n",
        "t2 = EcuacionSegundoGrado(-4.435, 70, 0, 0, 0, 'chicharroneraX2')\n",
        "print(t1)\n",
        "print(t2)"
      ],
      "metadata": {
        "id": "g5RmlJes6WD2",
        "colab": {
          "base_uri": "https://localhost:8080/"
        },
        "outputId": "b3404310-bd27-4f09-e318-3750fa39895a"
      },
      "execution_count": 30,
      "outputs": [
        {
          "output_type": "stream",
          "name": "stdout",
          "text": [
            "-0.0\n",
            "15.783540022547916\n"
          ]
        }
      ]
    },
    {
      "cell_type": "code",
      "source": [
        "#planeta 8\n",
        "t1 = EcuacionSegundoGrado(-5.575, 70, 0, 0, 0, 'chicharroneraX1')\n",
        "t2 = EcuacionSegundoGrado(-5.575, 70, 0, 0, 0, 'chicharroneraX2')\n",
        "print(t1)\n",
        "print(t2)"
      ],
      "metadata": {
        "id": "4oHFExhy6WMx",
        "colab": {
          "base_uri": "https://localhost:8080/"
        },
        "outputId": "7dcbd7b2-4cb3-49ff-9ae8-a077cd422424"
      },
      "execution_count": 31,
      "outputs": [
        {
          "output_type": "stream",
          "name": "stdout",
          "text": [
            "-0.0\n",
            "12.556053811659192\n"
          ]
        }
      ]
    },
    {
      "cell_type": "markdown",
      "source": [
        "#En esta sección calculamos la posición final en x"
      ],
      "metadata": {
        "id": "3HtAmvClawwA"
      }
    },
    {
      "cell_type": "code",
      "source": [
        "tiempovue = [37.83783783783784,15.783540022547916,14.271151885830784,37.735849056603776,5.647438483259379,13.409961685823756,15.783540022547916,12.556053811659192]"
      ],
      "metadata": {
        "id": "IzRMmEM6pWmw"
      },
      "execution_count": 32,
      "outputs": []
    },
    {
      "cell_type": "code",
      "source": [
        "listalc = []\n",
        "for n in tiempovue:\n",
        "  x = Posicion(0, vox, n, 0)\n",
        "  listalc.append(x)\n",
        "\n",
        "for n in zip(planeta,listalc):\n",
        "    print('Alcance horizontal en', n[0], '=', n[1], 'm')"
      ],
      "metadata": {
        "colab": {
          "base_uri": "https://localhost:8080/"
        },
        "id": "_Xxx1in-SqT4",
        "outputId": "56d4d40d-f9bb-40b2-ba25-b758bce0f96e"
      },
      "execution_count": 33,
      "outputs": [
        {
          "output_type": "stream",
          "name": "stdout",
          "text": [
            "Alcance horizontal en Mercurio = 4587.5940308581075 m\n",
            "Alcance horizontal en Venus = 1913.6525269644872 m\n",
            "Alcance horizontal en Tierra = 1730.2852104153922 m\n",
            "Alcance horizontal en Marte = 4575.228548295148 m\n",
            "Alcance horizontal en Jupiter = 684.7155269937475 m\n",
            "Alcance horizontal en Saturno = 1625.871447717912 m\n",
            "Alcance horizontal en Urano = 1913.6525269644872 m\n",
            "Alcance horizontal en Neptuno = 1522.3406201053808 m\n"
          ]
        }
      ]
    },
    {
      "cell_type": "markdown",
      "source": [
        "# En esta sección calculamos la altura máxima alcanzada por el proyectil"
      ],
      "metadata": {
        "id": "Ziyja4qfbDFB"
      }
    },
    {
      "cell_type": "code",
      "source": [
        "listTymax = []\n",
        "for n in tiempovue:\n",
        "  ty = n/2\n",
        "  listTymax.append(ty)\n",
        "\n",
        "print(listTymax)"
      ],
      "metadata": {
        "colab": {
          "base_uri": "https://localhost:8080/"
        },
        "id": "6q_vAdWWyG8B",
        "outputId": "ad3e33aa-25f2-47d3-a1e3-f101146ef899"
      },
      "execution_count": 34,
      "outputs": [
        {
          "output_type": "stream",
          "name": "stdout",
          "text": [
            "[18.91891891891892, 7.891770011273958, 7.135575942915392, 18.867924528301888, 2.8237192416296897, 6.704980842911878, 7.891770011273958, 6.278026905829596]\n"
          ]
        }
      ]
    },
    {
      "cell_type": "code",
      "source": [
        "listaltmax = []\n",
        "for n in zip(listTymax,gplan):\n",
        "  ymax = Posicion(0, voy, n[0], n[1])\n",
        "  listaltmax.append(ymax)\n",
        "\n",
        "for n in zip(planeta,listaltmax):\n",
        "    print('Altura máxima en', n[0], '=', n[1], 'm')"
      ],
      "metadata": {
        "colab": {
          "base_uri": "https://localhost:8080/"
        },
        "id": "xYOhjlBZ0a4P",
        "outputId": "22d3b282-ddd2-4976-e7b7-f4c5e4e8cffb"
      },
      "execution_count": 35,
      "outputs": [
        {
          "output_type": "stream",
          "name": "stdout",
          "text": [
            "Altura máxima en Mercurio = 662.1621621621622 m\n",
            "Altura máxima en Venus = 276.21195039458854 m\n",
            "Altura máxima en Tierra = 249.74515800203872 m\n",
            "Altura máxima en Marte = 660.377358490566 m\n",
            "Altura máxima en Jupiter = 98.83017345703912 m\n",
            "Altura máxima en Saturno = 234.67432950191574 m\n",
            "Altura máxima en Urano = 276.21195039458854 m\n",
            "Altura máxima en Neptuno = 219.73094170403584 m\n"
          ]
        }
      ]
    }
  ]
}