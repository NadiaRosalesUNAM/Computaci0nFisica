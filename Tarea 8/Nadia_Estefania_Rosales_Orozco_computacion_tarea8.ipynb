{
  "cells": [
    {
      "cell_type": "markdown",
      "metadata": {
        "id": "hS5kH8FFU6bs"
      },
      "source": [
        "# Tarea 8: Más listas y ciclos for\n",
        "### Computación - 8108\n",
        "#### Facultad de Ciencias - UNAM\n",
        "#### Profesores: C. Fís. Omar Trejo, C. Fís. Iván Jiménez, Pedro Flores-Silva\n",
        "\n",
        "Instrucciones: Este notebook contiene una serie de ejercicios que deben ser resueltos. Cada ejercicio se encuentra en una celda, ya sea de código o Markdown. Debes crear una o dos *celdas debajo de cada ejercicio* con tu(s) respectiva(s) respuestas. No modifiques las celdas originales.\n",
        "Recuerda que para ejecutar el código de una celda, presionar `Ctlr + Enter` o bien el boton de `play` en el editor Jupyter notebook.\n",
        "\n",
        "Cada ejercicio tendrá diferente valor, y se indicará en la celda de éste. La calificación final será la suma de los puntos obtenidos en cada ejercicio. Se calificará considerando la calidad de la respuesta, la claridad de la explicación y la correctitud del código. Por ejemplo, si el código no ejecuta la respuesta correcta pero se da una idea textual, se demuestra que hay comprensión del problema y el código hace sentido para el revisor, se otorgará una calificación parcial. Esto es, las respuestas no solo se evaluarán como bien o mal, sino que se considerará el esfuerzo. \n",
        "\n",
        "El codigo que realices debes comentarlo donde creas necesario, no vale no hacer ningún comentario. Recuerda que los comentarios son importantes para que el código sea legible y entendible, éstos se agregan con el símbolo # ."
      ]
    },
    {
      "cell_type": "markdown",
      "metadata": {
        "id": "u0m3o0vuU6by"
      },
      "source": [
        "### Ejercicio 1 (1 punto):\n",
        "Considera la siguiente lista de números: `lista = [1, 2, 2, 2, 465, 465, 787, 788, 99, \"mundo\", \"hola mundo\", \"adios mundo\", \"hola mundo\"]`. A partir de la lista crea otra lista que contenga los elementos únicos e imprimela.\n",
        "\n",
        "No vale crear la lista manualmente, debes hacerlo con código.\n",
        "\n",
        "El resultado debe ser: `[1, 2, 99, 'mundo', 'hola mundo', 465, 787, 788, 'adios mundo']`"
      ]
    },
    {
      "cell_type": "code",
      "source": [
        "# Quitar elementos repetidos de una lista\n",
        "lista = [1, 2, 2, 2, 465, 465, 787, 788, 99, \"mundo\", \"hola mundo\", \"adios mundo\", \"hola mundo\"]\n",
        "print(set(lista))"
      ],
      "metadata": {
        "colab": {
          "base_uri": "https://localhost:8080/"
        },
        "id": "OpEooUwT_ODt",
        "outputId": "c6feeaca-8a03-4d10-a566-caafde55d2d1"
      },
      "execution_count": 3,
      "outputs": [
        {
          "output_type": "stream",
          "name": "stdout",
          "text": [
            "{1, 2, 99, 'adios mundo', 'hola mundo', 'mundo', 465, 787, 788}\n"
          ]
        }
      ]
    },
    {
      "cell_type": "markdown",
      "metadata": {
        "id": "d7ji7L6EU6bz"
      },
      "source": [
        "### Ejercicio 2 (4 puntos): Aproximación de $\\pi$\n",
        "Una de las formas más sencillas de calcular $\\pi$ es mediante la siguiente serie infinita de Leibniz:\n",
        "$$\\frac{\\pi}{4} = \\sum_{n=0}^{\\infty}\\frac{(-1)^{n}}{(2n+1)} = \\frac{1}{1} - \\frac{1}{3} + \\frac{1}{5}-\\frac{1}{7}+\\frac{1}{9}-...$$\n",
        "\n",
        "crea un programa para aproximar $\\pi$ utilizando la serie de Leibniz. Usa n = 100000, imprime el valor de tu aproximación tanto el valor de $\\frac{\\pi}{4}$ como $\\pi$.\n",
        "\n",
        "El valor de $\\pi$ se obtiene al despejar:\n",
        "$$\\pi = 4 * \\left(\\sum_{n=0}^{\\infty}\\frac{(-1)^{n}}{(2n+1)} \\right)$$\n",
        "\n",
        "La siguiente celda de codigo ofrece el valor de $\\frac{\\pi}{4}$"
      ]
    },
    {
      "cell_type": "code",
      "execution_count": 4,
      "metadata": {
        "id": "036NPlQSU6b0",
        "outputId": "39f28a88-5c73-4346-a8b3-c8d07b19bf74",
        "colab": {
          "base_uri": "https://localhost:8080/"
        }
      },
      "outputs": [
        {
          "output_type": "stream",
          "name": "stdout",
          "text": [
            "El valor de pi/4 es aproximadamente 0.7853981633974483\n"
          ]
        }
      ],
      "source": [
        "import numpy as np\n",
        "#El valor de pi/4\n",
        "print(\"El valor de pi/4 es aproximadamente {}\".format(np.pi/4))"
      ]
    },
    {
      "cell_type": "code",
      "source": [
        "listaval = []\n",
        "for n in range(0,100000):\n",
        "  val = (((-1)**n)/((2*n)+1))\n",
        "  listaval.append(val)\n",
        "\n",
        "pi = 4*sum(listaval)\n",
        "\n",
        "print('\"Serie de Leibniz\", con π≈')\n",
        "print(pi)"
      ],
      "metadata": {
        "colab": {
          "base_uri": "https://localhost:8080/"
        },
        "id": "Xta1Yf5IAdke",
        "outputId": "688c3864-4f13-4672-982a-602b6aaeab99"
      },
      "execution_count": 37,
      "outputs": [
        {
          "output_type": "stream",
          "name": "stdout",
          "text": [
            "\"Serie de Leibniz\", con π≈\n",
            "3.1415826535897198\n"
          ]
        }
      ]
    },
    {
      "cell_type": "markdown",
      "metadata": {
        "id": "oHNe-_2FU6b2"
      },
      "source": [
        "### Ejercicio 3 (4 puntos): Sucesión monótona \n",
        "Una sucesión {$a_n$} es una colección de números relacionados entre sí, en la que se tiene en cuenta la posición relativa de cada número respecto al anterior. Por ejemplo, la sucesión $\\frac{1}{n} = 1, 1/2, 1/3, 1/4, ...$ es convergente a cero ya que cuando $n \\rightarrow \\infty$ el valor de $a_n$ se acerca a cero.\n",
        "\n",
        "Una sucesión podemos verla como una lista, tal que así `[1, 1/2, 1/3,1/10000]` (claramente con un valor maximo, pues en python no podemos tener infinitos elementos en una lista).\n",
        "\n",
        "Considera la sucesión $a_n = 3 - \\frac{1}{n}$, crea un programa que haga una lista con los primeros 10 mil terminos de dicha sucesion (no la imprimas).\n",
        "\n",
        "Imprime los últimos 15 elementos de la lista y discute en una celda Markdown si esta sucesión es convergente y hacía que valor converge. Investiga que condición debe cumplir para que una suceción sea monótona creciente y monótona decreciente, con ello responde si es creciente o decreciente.\t"
      ]
    },
    {
      "cell_type": "code",
      "source": [
        "#sucesión an=3-1/n\n",
        "sucesion = []\n",
        "for n in range(1,10000):\n",
        "  terminoi = (3-(1/n))\n",
        "  sucesion.append(terminoi)\n",
        "\n",
        "#los últimos 15 elementos de la sucesión son\n",
        "print(sucesion[-15:])"
      ],
      "metadata": {
        "colab": {
          "base_uri": "https://localhost:8080/"
        },
        "id": "KO0GFMOTI45a",
        "outputId": "1cbed9dd-5cf8-448a-876d-4b1edc6b901b"
      },
      "execution_count": 52,
      "outputs": [
        {
          "output_type": "stream",
          "name": "stdout",
          "text": [
            "[2.999899849774662, 2.999899859803725, 2.99989986983078, 2.999899879855827, 2.9998998898788667, 2.9998998998999, 2.999899909918927, 2.999899919935949, 2.9998999299509657, 2.9998999399639783, 2.9998999499749877, 2.9998999599839937, 2.9998999699909974, 2.999899979995999, 2.9998999899989998]\n"
          ]
        }
      ]
    },
    {
      "cell_type": "markdown",
      "source": [
        "## Convergencia de la sucesión $an=3−\\frac{1}{n}$\n",
        "La suecesión $a_n$ es convergete y converge a 3"
      ],
      "metadata": {
        "id": "Ee5Fou-kMC8j"
      }
    },
    {
      "cell_type": "markdown",
      "metadata": {
        "id": "Cp1nmzdBU6b3"
      },
      "source": [
        "### Ejercicio 4 (1 punto):\n",
        "Crea un ciclo for a modo de que la salida sea la siguiente:\n",
        "\n",
        "10\n",
        "\n",
        "9\n",
        "\n",
        "8\n",
        "\n",
        "7\n",
        "\n",
        "6\n",
        "\n",
        "...\n",
        "\n",
        "2\n",
        "\n",
        "1\n",
        "\n",
        "0\n"
      ]
    },
    {
      "cell_type": "markdown",
      "metadata": {
        "id": "JQ92WLnYU6b4"
      },
      "source": [
        "### Puntos extras, este ejercicio es opcional (2 puntos):\n",
        "Crea un codigo para calcular el producto punto de dos vectores $\\vec{\\omega}$ y $\\vec{\\eta}$ de dimensión $3$. No vale usar librerias externas, debes hacerlo con ciclos for.\n",
        "\n",
        "Donde $\\vec{\\omega} = (10, 2, -3)$ y $\\vec{\\eta} = (5, -5, 1)$\n",
        "\n",
        "El producto punto de los vectores $\\vec{\\omega}$ y $\\vec{\\eta}$ se define como:\n",
        "$$<\\vec{\\omega},\\vec{\\eta}> = \\vec{\\omega} \\cdot \\vec{\\eta} = \\omega_{1}\\eta_{1} + \\omega_{2}\\eta_{2} + \\omega_{3}\\eta_{3} = 10*5 + 2*(-5) + (-3)*1=37$$"
      ]
    }
  ],
  "metadata": {
    "kernelspec": {
      "display_name": "Python 3.9.13 ('base')",
      "language": "python",
      "name": "python3"
    },
    "language_info": {
      "codemirror_mode": {
        "name": "ipython",
        "version": 3
      },
      "file_extension": ".py",
      "mimetype": "text/x-python",
      "name": "python",
      "nbconvert_exporter": "python",
      "pygments_lexer": "ipython3",
      "version": "3.9.13"
    },
    "orig_nbformat": 4,
    "vscode": {
      "interpreter": {
        "hash": "ad2bdc8ecc057115af97d19610ffacc2b4e99fae6737bb82f5d7fb13d2f2c186"
      }
    },
    "colab": {
      "provenance": []
    }
  },
  "nbformat": 4,
  "nbformat_minor": 0
}