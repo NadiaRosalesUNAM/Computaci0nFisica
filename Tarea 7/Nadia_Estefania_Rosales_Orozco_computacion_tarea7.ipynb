{
  "cells": [
    {
      "cell_type": "markdown",
      "metadata": {
        "id": "wpRF7eJe7-f8"
      },
      "source": [
        "# Tarea 7: Revisión de los conceptos básicos de Python\n",
        "### Computación - 8108\n",
        "#### Facultad de Ciencias - UNAM\n",
        "#### Profesores: C. Fís. Omar Trejo, C. Fís. Iván Jiménez, Pedro Flores-Silva\n",
        "\n",
        "Instrucciones: Este notebook contiene una serie de ejercicios que deben ser resueltos. Cada ejercicio se encuentra en una celda, ya sea de código o Markdown. Debes crear una o dos *celdas debajo de cada ejercicio* con tu(s) respectiva(s) respuestas. No modifiques las celdas originales.\n",
        "Recuerda que para ejecutar el código de una celda, presionar `Ctlr + Enter` o bien el boton de `play` en el editor Jupyter notebook.\n",
        "\n",
        "Cada ejercicio tendrá diferente valor, y se indicará en la celda de éste. La calificación final será la suma de los puntos obtenidos en cada ejercicio. Se calificará considerando la calidad de la respuesta, la claridad de la explicación y la correctitud del código. Por ejemplo, si el código no ejecuta la respuesta correcta pero se da una idea textual, se demuestra que hay comprensión del problema y el código hace sentido para el revisor, se otorgará una calificación parcial. Esto es, las respuestas no solo se evaluarán como bien o mal, sino que se considerará el esfuerzo. \n",
        "\n",
        "El codigo que realices debes comentarlo donde creas necesario, no vale no hacer ningún comentario. Recuerda que los comentarios son importantes para que el código sea legible y entendible, éstos se agregan con el símbolo # ."
      ]
    },
    {
      "cell_type": "markdown",
      "metadata": {
        "id": "aSebEZyS7-gB"
      },
      "source": [
        "### Ejercicio 1 (1 punto):\n",
        "En una celda Markdown contesta: ¿Qué es un nombre reservado en python? Enlista 5 ejemplos de nombres reservados en python y describe su función (aquí debes investigar su función si es que aún no hemos tratado dicho nombre reservado)."
      ]
    },
    {
      "cell_type": "markdown",
      "source": [
        "# Nombre reservado\n",
        "En python un nombre reservado es una palabra que no se puede utilizar para declarar una variable, ya que dicha palabra realiza tareas específicas.\n",
        "\n",
        "Ejemplos:\n",
        "\n",
        "\n",
        "*  **assert:** permite encontrar errores y verificar las suposiciones. La palabra assert va seguida de una condición, si es verdadera no pasa nada, pero si es falsa aparece AssertionError o devolver un mensaje después de AssertionError (assert condition, message).\n",
        "\n",
        "*   **global:** se usa dentro de una función para declarar una variable como global. Si se quiere cambiar el valor de una variable global dentro de una función se debe declarar con global, de otra forma se crea una variable local.\n",
        "\n",
        "*   **lambda:** crea una función sin nombre, la expresión se evalúa y se devuelve.\n",
        "\n",
        "*   **yield:** devuelve un generator (un generator es un iterador que genera un elemento por vez.\n",
        "\n",
        "*  **from, import:** import (solo) importa módulos, pero si se usa from…import se importan (solo) atributos específicos o funciones.\n",
        "\n",
        "\n",
        "\n",
        "\n",
        "\n",
        "\n"
      ],
      "metadata": {
        "id": "ej2tgoue8_AP"
      }
    },
    {
      "cell_type": "markdown",
      "source": [
        "Recuperado el 30 de noviembre de 2022 de: Lista de palabras clave en Python. https://www.programiz.com/python-programming/keyword-list#from_import"
      ],
      "metadata": {
        "id": "P7p4RqdmL6g9"
      }
    },
    {
      "cell_type": "markdown",
      "metadata": {
        "id": "VLoFk6D47-gC"
      },
      "source": [
        "### Ejercicio 2 (1 punto):\n",
        "En una celda Markdown: Coloca tres ejemplos de nombres de variables que no son válidos en python. Explica por qué no son válidos."
      ]
    },
    {
      "cell_type": "markdown",
      "source": [
        "# Ejemplos de nombres no válidos\n",
        "\n",
        "*   101dalmatas = 101*x , no es válido pues empieza con un número y no con una letra\n",
        "*   True = 47 , no es válido pues usa la palabra reservada True\n",
        "*   cuanto$ = x*20.1 , no es válido pues contiene  un caracter ilegal\n",
        "\n",
        "\n",
        "\n",
        "\n"
      ],
      "metadata": {
        "id": "D5RqF2qZMqiK"
      }
    },
    {
      "cell_type": "markdown",
      "metadata": {
        "id": "jdPfLblC7-gC"
      },
      "source": [
        "### Ejercicio 3 (3 puntos):\n",
        "Considera el siguiente polinomio: $f(x) = 10x^2 - 2x$. \n",
        "\n",
        "En una celda Markdown escribe:\n",
        "* Los pasos para encontrar sus raíces a través del método del despeje.\n",
        "* Los pasos para encontrar sus raíces a través del método de la chicharronera.\n",
        "\n",
        "En una celda de código, escribe un programa que compruebe que las raíces del polinomio $f(x) = 10x^2 - 2x$ que tu encontraste son correctas. El programa debe imprimir las raíces en la pantalla. (Debes usar la ecuación que obtuviste al depejar el polinomio).\n",
        "\n",
        "En otra celda de código, escribe un programa que encuentre las raíces del polinomio $f(x) = 10x^2 - 2x$ a través del método de la chicharronera. El programa debe imprimir las raíces en la pantalla. (Debes usar la chicharronera).\n",
        "\n",
        "Considera los signos de la chicharronera como dos operaciones diferentes: $(-)$ y $(+)$."
      ]
    },
    {
      "cell_type": "markdown",
      "source": [
        "# Raíces por método de despeje\n",
        "Sea $f(x)=10x^2-2x$\n",
        "Encontremos las raíces para $10x^2-2x=0$\n",
        "\n",
        "Notemos que $x(10x-2)=0$\n",
        "\n",
        "Tenemos dos casos\n",
        "#### Caso 1\n",
        "\n",
        "x=0\n",
        "\n",
        "=> $(0)(10(0)-2)=0$\n",
        "\n",
        "#### Caso 2\n",
        "\n",
        "x diferente de cero\n",
        "\n",
        "=> $10x^2=2x$\n",
        "\n",
        "=>$10(x^2)/(x)=2$\n",
        "\n",
        "=>$10x=2$\n",
        "\n",
        "=>$x=2/10=1/5=0.2$\n",
        "\n",
        "---\n",
        "\n",
        "# Raíces por método de \"la chicharronera\"\n",
        "Sea $f(x)=10x^2-2x$\n",
        "Encontremos las raíces para $10x^2-2x=0$\n",
        "\n",
        "Sean a=10, b=-2, c=0\n",
        "\n",
        "Luego x está dado por\n",
        "\n",
        "$x=(-b±((b^2)-4(a)(c))^\\frac{1}{2})/2(a)$\n",
        "\n",
        "=>$x=(-(-2)±(((-2)^2)-4(10)(0))^\\frac{1}{2})/2(10)$\n",
        "\n",
        "=>$x1=\\frac{2+2}{20}=\\frac{4}{20}=\\frac{1}{5}=0.2$\n",
        "\n",
        "=>$x2=\\frac{2-2}{20}=\\frac{0}{20}=0$\n"
      ],
      "metadata": {
        "id": "pYV4Ub-gT1dm"
      }
    },
    {
      "cell_type": "code",
      "source": [
        "#Método de despeje\n",
        "#Sea f(x)=10x^2-2x\n",
        "print('Raíces de f(x)=10x^2-2x por despeje')\n",
        "lista = ['x1=0','x2=0.2']\n",
        "for element in lista:\n",
        "  print(element)\n",
        "\n",
        "x1 = 0\n",
        "x2 = 0.2\n",
        "\n",
        "print('Método por despeje')\n",
        "print('Caso 1 x=0')\n",
        "funcionc1 = x1*(10*x1-2)\n",
        "print('f(0)=')\n",
        "print(funcionc1)\n",
        "\n",
        "print('Caso 2 x=0.2')\n",
        "funcionc21 = 10*x2**2\n",
        "funcionc22 = 2*x2\n",
        "print('10x^2=')\n",
        "print(\"{:.1f}\".format(funcionc21))\n",
        "print('2x=')\n",
        "print(funcionc22)"
      ],
      "metadata": {
        "colab": {
          "base_uri": "https://localhost:8080/"
        },
        "id": "FKUYA1o0aclZ",
        "outputId": "e5c0122d-434a-4e40-9b0b-3463fda3b1fa"
      },
      "execution_count": null,
      "outputs": [
        {
          "output_type": "stream",
          "name": "stdout",
          "text": [
            "Raíces de f(x)=10x^2-2x por despeje\n",
            "x1=0\n",
            "x2=0.2\n",
            "Método por despeje\n",
            "Caso 1 x=0\n",
            "f(0)=\n",
            "0\n",
            "Caso 2 x=0.2\n",
            "10x^2=\n",
            "0.4\n",
            "2x=\n",
            "0.4\n"
          ]
        }
      ]
    },
    {
      "cell_type": "code",
      "source": [
        "#Método de chicharronera\n",
        "#Sea f(x)=10x^2-2x\n",
        "print('Raíces de f(x)=10x^2-2x por chicharronera')\n",
        "\n",
        "def chicharronera1(a,b,c):\n",
        "\n",
        "    raiz1 = (-b+((b**2-4*a*c)**0.5))/(2*a)\n",
        "    return raiz1\n",
        "print ('x1=')\n",
        "print(chicharronera1(10,-2,0))\n",
        "\n",
        "def chicharronera2(a,b,c):\n",
        "\n",
        "    raiz2 = (-b-((b**2-4*a*c)**0.5))/(2*a)\n",
        "    return raiz2\n",
        "print ('x2=')\n",
        "print(chicharronera2(10,-2,0))\n"
      ],
      "metadata": {
        "colab": {
          "base_uri": "https://localhost:8080/"
        },
        "id": "YtmYmEIygKR6",
        "outputId": "ff645e8d-c986-42e0-d499-05e3c4664b4e"
      },
      "execution_count": null,
      "outputs": [
        {
          "output_type": "stream",
          "name": "stdout",
          "text": [
            "Raíces de f(x)=10x^2-2x por chicharronera\n",
            "x1=\n",
            "0.2\n",
            "x2=\n",
            "0.0\n"
          ]
        }
      ]
    },
    {
      "cell_type": "markdown",
      "metadata": {
        "id": "m7YXbj4p7-gD"
      },
      "source": [
        "### Ejercicio 4 (3 puntos):\n",
        "Caida libre: El gran Galileo Galilei subió la torre de Pisa para determinar el tiempo que tarda un objeto en caer desde una altura $H$ al suelo. Para ello, colocó un objeto de masa $m=100$ kg en la torre y lo dejó caer. El tiempo que tardó en caer fue $t=0.05616667$ minutos.\n",
        "\n",
        "Considerando que la aceleración de la gravedad es $g=9.8$ $\\frac{m}{s^2}$, escribe un programa que determine la altura de la torre de Pisa. El programa debe imprimir la altura en la pantalla.\n",
        "\n",
        "Recuerda que el movimiento de caída libre simplificado cumple la ecuación: $y(t) = H + vt - \\frac{1}{2}gt^2$.\n"
      ]
    },
    {
      "cell_type": "code",
      "source": [
        "# Galileo y la torre de Pisa\n",
        "# Caída libre\n",
        "print('Caída libre-Altura de la Torre de Pisa')\n",
        "\n",
        "yt = 0\n",
        "print('Posición del objeto=',yt,'m')\n",
        "\n",
        "vo = 0\n",
        "print('Velocidad inicial=',vo,'m/s')\n",
        "\n",
        "g = 9.8\n",
        "print('Aceleración de la gravedad=',g,'m/s^2')\n",
        "\n",
        "tminutos = 0.05616667\n",
        "print('Tiempo que tardó el objeto en caer=',t,'min')\n",
        "\n",
        "tsegundos = tminutos*60\n",
        "\n",
        "print('De la ecuación para movimiento de caída libre simplificado y(t)=H+vo(t)−(1/2)gt^2')\n",
        "print('=> H=y(t)-vo(t)+(1/2)gt^2')\n",
        "\n",
        "Altura = yt-vo+0.5*g*(tsegundos**2)\n",
        "print('Altura de la torre=',\"{:.3f}\".format(Altura),'m')"
      ],
      "metadata": {
        "colab": {
          "base_uri": "https://localhost:8080/"
        },
        "id": "opbrtX9TwlxX",
        "outputId": "0200a8c0-152c-4e72-9581-e0af53caccdb"
      },
      "execution_count": null,
      "outputs": [
        {
          "output_type": "stream",
          "name": "stdout",
          "text": [
            "Caída libre-Altura de la Torre de Pisa\n",
            "Posición del objeto= 0 m\n",
            "Velocidad inicial= 0 m/s\n",
            "Aceleración de la gravedad= 9.8 m/s^2\n",
            "Tiempo que tardó el objeto en caer= 0.05616667 min\n",
            "De la ecuación para movimiento de caída libre simplificado y(t)=H+vo(t)−(1/2)gt^2\n",
            "=> H=y(t)-vo(t)+(1/2)gt^2\n",
            "Altura de la torre= 55.649 m\n"
          ]
        }
      ]
    },
    {
      "cell_type": "markdown",
      "metadata": {
        "id": "4BvbH5gt7-gD"
      },
      "source": [
        "### Ejercicio 5 (2 puntos):\n",
        "Considera una lista de números enteros del 0 al 99 : `lista = [0,1, 2, 3, 4, ... , 95, 96, 97, 98, 99]`.\n",
        "En una celda de código, escribe un programa que imprima en la pantalla una la lista que cumpla con las siguientes condiciones:\n",
        "* Los ultimos 10 elementos: debe imprimir lo siguiente `[90, 91, 92, 93, 94, 95, 96, 97, 98, 99]`.\n",
        "* Los primeros 11 elementos: debe imprimir lo siguiente `[0, 1, 2, 3, 4, 5, 6, 7, 8, 9, 10]`.\n",
        "* La serie de elementos de la lista que están entre 60 y 75: debe imprimir lo siguiente `[60, 61, 62, 63, 64, 65, 66, 67, 68, 69, 70, 71, 72, 73, 74, 75]`.\n",
        "* El número 50: debe imprimir lo siguiente `50`.\n",
        "\n",
        "Debes aplicar el concepto de *slicing* para resolver este ejercicio (notación de puntos `[:]`).\n",
        "\n",
        "Puntos menos si se crean listas nuevas para cada caso y/o se seleccionan manualmente los valores.\n",
        "\n",
        "El código de abajo te ayudará a crear la lista del 0 al 99."
      ]
    },
    {
      "cell_type": "code",
      "execution_count": null,
      "metadata": {
        "id": "dIiUbp4j7-gE",
        "colab": {
          "base_uri": "https://localhost:8080/"
        },
        "outputId": "8589d88b-c1a7-4899-f8fb-6e8bb9cd5a80"
      },
      "outputs": [
        {
          "output_type": "stream",
          "name": "stdout",
          "text": [
            "Últimos diez elementos\n",
            "[90, 91, 92, 93, 94, 95, 96, 97, 98, 99]\n",
            "Primeros once elementos\n",
            "[0, 1, 2, 3, 4, 5, 6, 7, 8, 9, 10]\n",
            "Elementos entre 60 y 75\n",
            "[60, 61, 62, 63, 64, 65, 66, 67, 68, 69, 70, 71, 72, 73, 74, 75]\n",
            "Número 50\n",
            "50\n"
          ]
        }
      ],
      "source": [
        "# Elementos de una lista\n",
        "lista = list(range(100))\n",
        "print('Últimos diez elementos')\n",
        "print(lista[90:])\n",
        "print('Primeros once elementos')\n",
        "print(lista[:11])\n",
        "print('Elementos entre 60 y 75')\n",
        "print(lista[60:-24])\n",
        "print('Número 50')\n",
        "print(lista[50])"
      ]
    },
    {
      "cell_type": "markdown",
      "metadata": {
        "id": "_0SQc43Y7-gF"
      },
      "source": [
        "### Puntos extras, este ejercicio es opcional (5 puntos):\n",
        "Replica el código visto en clase para simular los volados. Discute los resultados obtenidos. ¿Qué observas? ¿Qué puedes concluir? ¿Qué pasa cuando la cantidad de volados es muy pequeña? ¿Qué pasa cuando la cantidad de volados es muy grande?\n",
        "\n",
        "En caso de errores con librerias no encontradas, debes hacer en una celda de código lo siguiente:\n",
        "\n",
        "`!pip install nombre_de_la_libreria`. Por ejemplo para plotly: `!pip install plotly`."
      ]
    },
    {
      "cell_type": "code",
      "execution_count": null,
      "metadata": {
        "id": "Fb2VlPnx7-gG",
        "outputId": "9ccdeec4-a05b-44ea-df50-b3bdc19e64f4"
      },
      "outputs": [
        {
          "name": "stdout",
          "output_type": "stream",
          "text": [
            "Defaulting to user installation because normal site-packages is not writeable\n",
            "Requirement already satisfied: plotly in c:\\programdata\\anaconda3\\lib\\site-packages (5.9.0)\n",
            "Requirement already satisfied: tenacity>=6.2.0 in c:\\programdata\\anaconda3\\lib\\site-packages (from plotly) (8.0.1)\n"
          ]
        }
      ],
      "source": [
        "!pip install plotly"
      ]
    }
  ],
  "metadata": {
    "kernelspec": {
      "display_name": "Python 3.9.13 ('base')",
      "language": "python",
      "name": "python3"
    },
    "language_info": {
      "codemirror_mode": {
        "name": "ipython",
        "version": 3
      },
      "file_extension": ".py",
      "mimetype": "text/x-python",
      "name": "python",
      "nbconvert_exporter": "python",
      "pygments_lexer": "ipython3",
      "version": "3.9.13"
    },
    "orig_nbformat": 4,
    "vscode": {
      "interpreter": {
        "hash": "ad2bdc8ecc057115af97d19610ffacc2b4e99fae6737bb82f5d7fb13d2f2c186"
      }
    },
    "colab": {
      "provenance": []
    }
  },
  "nbformat": 4,
  "nbformat_minor": 0
}